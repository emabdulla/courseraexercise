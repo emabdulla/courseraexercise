{
 "cells": [
  {
   "cell_type": "markdown",
   "id": "3f4d3329-ce83-4649-aef4-34b1e94bbbc9",
   "metadata": {},
   "source": [
    "# Data Science Tools and Ecosystem"
   ]
  },
  {
   "cell_type": "markdown",
   "id": "7bc2b75e-8ed1-4a17-9d44-657b9fa689b1",
   "metadata": {},
   "source": [
    "In this notebook, Data Science Tools and Ecosystem are summarized."
   ]
  },
  {
   "cell_type": "markdown",
   "id": "46f62ba0-97aa-40c1-9028-0f4cbb1b62a8",
   "metadata": {},
   "source": [
    "**Objectives**\n",
    "- List popular languages used in Data Science.\n",
    "- List common libraries used in Data Science.\n",
    "- List open source data science tools.\n",
    "- Show examples of arithmetic expressions."
   ]
  },
  {
   "cell_type": "markdown",
   "id": "3fea7126-fd4a-4ced-a871-6abc3caa031c",
   "metadata": {},
   "source": [
    "Some of the popular languages that Data Scientists use are:\n",
    "1. Python\n",
    "2. R\n",
    "3. SQL"
   ]
  },
  {
   "cell_type": "markdown",
   "id": "eb956632-5b10-4cfe-bb66-503211922423",
   "metadata": {},
   "source": [
    "Some of the commonly used libraries used by Data Scientists include:\n",
    "1. scikit-learn\n",
    "2. Pandas\n",
    "3. Numpy\n",
    "4. Keras"
   ]
  },
  {
   "cell_type": "markdown",
   "id": "e7cd4788-9b8c-45c4-9f06-11be94d5df5a",
   "metadata": {},
   "source": [
    "|Data Science Tools|\n",
    "|---|\n",
    "|Anaconda|\n",
    "|Google Colab|\n",
    "|Jupyter Notebooks|\n"
   ]
  },
  {
   "cell_type": "markdown",
   "id": "b8ef00e9-ab5e-419a-af6f-313dd715c913",
   "metadata": {},
   "source": [
    "### Below are a few examples of evaluating arithmetic expressions in Python."
   ]
  },
  {
   "cell_type": "code",
   "execution_count": 25,
   "id": "4e177a9c-c25c-4b4a-94e0-69b2cef170a4",
   "metadata": {},
   "outputs": [
    {
     "name": "stdout",
     "output_type": "stream",
     "text": [
      "10\n"
     ]
    }
   ],
   "source": [
    "x=4+6\n",
    "print(x)"
   ]
  },
  {
   "cell_type": "code",
   "execution_count": 28,
   "id": "618bc957-ca34-4fc8-9136-7bac7d50fa4f",
   "metadata": {},
   "outputs": [
    {
     "name": "stdout",
     "output_type": "stream",
     "text": [
      "37\n"
     ]
    }
   ],
   "source": [
    "y=9*3\n",
    "print(y+x)"
   ]
  },
  {
   "cell_type": "markdown",
   "id": "e55aafe5-ab86-41b5-a467-92269f6501c7",
   "metadata": {},
   "source": [
    "This a simple arithmetic expression to mutiply then add integers"
   ]
  },
  {
   "cell_type": "code",
   "execution_count": 31,
   "id": "05e56476-5149-4532-9855-e7d00b99feb0",
   "metadata": {},
   "outputs": [
    {
     "name": "stdout",
     "output_type": "stream",
     "text": [
      "17\n"
     ]
    }
   ],
   "source": [
    "print((3*4)+5)"
   ]
  },
  {
   "cell_type": "markdown",
   "id": "5286e22e-781a-4d93-9e39-2c1cb776afd0",
   "metadata": {},
   "source": [
    "This will convert 200 minutes to hours by diving by 60"
   ]
  },
  {
   "cell_type": "code",
   "execution_count": 34,
   "id": "7f495684-fe9b-4353-a621-9ea952864344",
   "metadata": {},
   "outputs": [
    {
     "name": "stdout",
     "output_type": "stream",
     "text": [
      "3.3333333333333335 hours\n"
     ]
    }
   ],
   "source": [
    "print(200/60, 'hours')"
   ]
  },
  {
   "cell_type": "markdown",
   "id": "465b64b6-e4ce-4338-aa3c-b9526bb1e74a",
   "metadata": {},
   "source": [
    "## Author"
   ]
  },
  {
   "cell_type": "markdown",
   "id": "d2e967f1-e019-4d81-a894-3c2a5e88e416",
   "metadata": {},
   "source": [
    "ESMAHAN ABDULLA"
   ]
  },
  {
   "cell_type": "code",
   "execution_count": null,
   "id": "44bad93b-bf64-4eb1-af1e-22c68cb6f316",
   "metadata": {},
   "outputs": [],
   "source": []
  }
 ],
 "metadata": {
  "kernelspec": {
   "display_name": "Python 3 (ipykernel)",
   "language": "python",
   "name": "python3"
  },
  "language_info": {
   "codemirror_mode": {
    "name": "ipython",
    "version": 3
   },
   "file_extension": ".py",
   "mimetype": "text/x-python",
   "name": "python",
   "nbconvert_exporter": "python",
   "pygments_lexer": "ipython3",
   "version": "3.12.7"
  }
 },
 "nbformat": 4,
 "nbformat_minor": 5
}
